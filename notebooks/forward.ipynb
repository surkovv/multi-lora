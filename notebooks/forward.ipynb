{
 "cells": [
  {
   "cell_type": "markdown",
   "metadata": {},
   "source": [
    "# Measuring VRAM"
   ]
  },
  {
   "cell_type": "code",
   "execution_count": 1,
   "metadata": {},
   "outputs": [],
   "source": [
    "import torch\n",
    "import os\n",
    "import time\n",
    "import threading\n",
    "import subprocess\n",
    "from contextlib import contextmanager\n",
    "from pynvml import *\n",
    "from time import sleep\n",
    "from dataclasses import dataclass\n",
    "import gc\n",
    "\n",
    "@dataclass\n",
    "class Measurement:\n",
    "    allocated_start: int = None\n",
    "    reserved_start: int = None\n",
    "    allocated_finish: int = None\n",
    "    reserved_finish: int = None\n",
    "    total_start: int = None\n",
    "    total_finish: int = None\n",
    "    peak_allocated: int = None\n",
    "    peak_reserved: int = None\n",
    "    total_peak: int = None\n",
    "\n",
    "    def __str__(self):\n",
    "        return (\n",
    "            f\"{'':>15} | {'Start':>10} | {'Finish':>10} | {'Peak':>10}\\n\"\n",
    "            f\"{'-'*55}\\n\"\n",
    "            f\"{'Allocated':>15} | {self.allocated_start!s:>10} | {self.allocated_finish!s:>10} | {self.peak_allocated!s:>10}\\n\"\n",
    "            f\"{'Reserved':>15} | {self.reserved_start!s:>10} | {self.reserved_finish!s:>10} | {self.peak_reserved!s:>10}\\n\"\n",
    "            f\"{'Total':>15} | {self.total_start!s:>10} | {self.total_finish!s:>10} | {self.total_peak!s:>10}\"\n",
    "        )\n",
    "\n",
    "@contextmanager\n",
    "def monitor_gpu_memory_smi(interval=0.05, gpu_index=0):\n",
    "    \"\"\"\n",
    "    Context manager to track:\n",
    "    - PyTorch allocated & reserved (live and peak)\n",
    "    - Total GPU memory used by this process (via `nvidia-smi`)\n",
    "    Does NOT use pynvml.\n",
    "    \"\"\"\n",
    "    pid = str(os.getpid())\n",
    "    peak_total = [0]\n",
    "    running = [True]\n",
    "\n",
    "    def get_process_memory_mb():\n",
    "        try:\n",
    "            result = subprocess.run(\n",
    "                [\"nvidia-smi\", \"--query-compute-apps=pid,used_memory\", \"--format=csv,nounits,noheader\"],\n",
    "                stdout=subprocess.PIPE,\n",
    "                text=True\n",
    "            )\n",
    "            for line in result.stdout.strip().split(\"\\n\"):\n",
    "                mem = int(line.split(\",\")[1].strip())\n",
    "                return mem\n",
    "        except Exception:\n",
    "            return 0\n",
    "        return 0\n",
    "\n",
    "    def poll_nvidia_smi():\n",
    "        while 1:\n",
    "            mem = get_process_memory_mb()\n",
    "            peak_total[0] = max(peak_total[0], mem)\n",
    "            if not running[0]:\n",
    "                break\n",
    "            time.sleep(interval)\n",
    "\n",
    "    # Reset PyTorch memory stats\n",
    "    gc.collect()\n",
    "    torch.cuda.empty_cache()\n",
    "    torch.cuda.reset_peak_memory_stats()\n",
    "    torch.cuda.synchronize()\n",
    "\n",
    "    allocated_start = torch.cuda.memory_allocated() // 1024**2\n",
    "    reserved_start = torch.cuda.memory_reserved() // 1024**2\n",
    "    total_start = get_process_memory_mb()\n",
    "\n",
    "    # Start background polling thread\n",
    "    thread = threading.Thread(target=poll_nvidia_smi)\n",
    "    thread.start()\n",
    "\n",
    "    measurement = Measurement()\n",
    "\n",
    "    try:\n",
    "        yield measurement\n",
    "    finally:\n",
    "        # Stop thread\n",
    "        running[0] = False\n",
    "        thread.join()\n",
    "        torch.cuda.synchronize()\n",
    "\n",
    "        # Gather PyTorch stats\n",
    "        allocated_finish = torch.cuda.memory_allocated() // 1024**2\n",
    "        reserved_finish = torch.cuda.memory_reserved() // 1024**2\n",
    "        total_finish = get_process_memory_mb()\n",
    "        peak_allocated = torch.cuda.max_memory_allocated() // 1024**2\n",
    "        peak_reserved = torch.cuda.max_memory_reserved() // 1024**2\n",
    "        total_peak = peak_total[0]\n",
    "\n",
    "        # Reset PyTorch memory stats\n",
    "\n",
    "        gc.collect()\n",
    "        torch.cuda.empty_cache()\n",
    "        torch.cuda.reset_peak_memory_stats()\n",
    "        torch.cuda.synchronize()\n",
    "\n",
    "        measurement.allocated_start = allocated_start\n",
    "        measurement.allocated_finish = allocated_finish\n",
    "        measurement.peak_allocated = peak_allocated\n",
    "        measurement.reserved_start = reserved_start\n",
    "        measurement.reserved_finish = reserved_finish\n",
    "        measurement.peak_reserved = peak_reserved\n",
    "        measurement.total_start = total_start\n",
    "        measurement.total_finish = total_finish\n",
    "        measurement.total_peak = total_peak\n",
    "\n"
   ]
  },
  {
   "cell_type": "code",
   "execution_count": 2,
   "metadata": {},
   "outputs": [
    {
     "name": "stdout",
     "output_type": "stream",
     "text": [
      "400556032 400556032\n",
      "600556032 601882624\n",
      "200000000 601882624\n",
      "200000000 201326592\n"
     ]
    }
   ],
   "source": [
    "t = torch.zeros((10000, 10000), device=\"cuda\")\n",
    "print(torch.cuda.memory_allocated(), torch.cuda.memory_reserved())\n",
    "t1 = t[:5000, :].clone()\n",
    "print(torch.cuda.memory_allocated(), torch.cuda.memory_reserved())\n",
    "del t\n",
    "print(torch.cuda.memory_allocated(), torch.cuda.memory_reserved())\n",
    "torch.cuda.empty_cache()\n",
    "print(torch.cuda.memory_allocated(), torch.cuda.memory_reserved())"
   ]
  },
  {
   "cell_type": "code",
   "execution_count": 3,
   "metadata": {},
   "outputs": [
    {
     "name": "stdout",
     "output_type": "stream",
     "text": [
      "0 0\n"
     ]
    }
   ],
   "source": [
    "del t1\n",
    "torch.cuda.empty_cache()\n",
    "print(torch.cuda.memory_allocated(), torch.cuda.memory_reserved())"
   ]
  },
  {
   "cell_type": "markdown",
   "metadata": {},
   "source": [
    "### Loading and warm-up"
   ]
  },
  {
   "cell_type": "code",
   "execution_count": 4,
   "metadata": {},
   "outputs": [
    {
     "name": "stderr",
     "output_type": "stream",
     "text": [
      "/mnt/home/surkov/conda_envs/venv/lib/python3.10/site-packages/tqdm/auto.py:21: TqdmWarning: IProgress not found. Please update jupyter and ipywidgets. See https://ipywidgets.readthedocs.io/en/stable/user_install.html\n",
      "  from .autonotebook import tqdm as notebook_tqdm\n"
     ]
    }
   ],
   "source": [
    "import torch\n",
    "from transformers import AutoTokenizer, AutoModelForCausalLM\n",
    "\n",
    "device = torch.device(\"cuda\" if torch.cuda.is_available() else \"cpu\")\n",
    "model = AutoModelForCausalLM.from_pretrained(\"openai-community/gpt2-xl\").to(device)\n",
    "tokenizer = AutoTokenizer.from_pretrained(\"openai-community/gpt2-xl\")\n",
    "\n",
    "# Input tensor\n",
    "inputs = tokenizer(\"This is a test sentence for measuring VRAM usage.\", return_tensors=\"pt\").to(device)\n",
    "\n",
    "# Warmup\n",
    "_ = model(**inputs)\n",
    "del _"
   ]
  },
  {
   "cell_type": "code",
   "execution_count": 5,
   "metadata": {},
   "outputs": [
    {
     "data": {
      "text/plain": [
       "6132.57861328125"
      ]
     },
     "execution_count": 5,
     "metadata": {},
     "output_type": "execute_result"
    }
   ],
   "source": [
    "m_w = torch.cuda.memory_allocated() / 1024 ** 2\n",
    "m_w"
   ]
  },
  {
   "cell_type": "code",
   "execution_count": 6,
   "metadata": {},
   "outputs": [],
   "source": [
    "def forward_no_grad(batch):\n",
    "    with torch.no_grad():\n",
    "        model(**batch)\n",
    "\n",
    "def forward_grad(batch):\n",
    "    model(**batch)\n",
    "\n",
    "\n",
    "def forward_backward(batch):\n",
    "    output = model(**batch).logits\n",
    "    output.sum().backward()"
   ]
  },
  {
   "cell_type": "markdown",
   "metadata": {},
   "source": [
    "Occupied VRAM can be divided into 3 parts\n",
    "- Allocated by PyTorch\n",
    "- Reserved by PyTorch but not allocated\n",
    "- Occupied by not PyTorch (flash-attentions, accelerate optimizations etc.)"
   ]
  },
  {
   "cell_type": "code",
   "execution_count": 7,
   "metadata": {},
   "outputs": [
    {
     "name": "stdout",
     "output_type": "stream",
     "text": [
      "                |      Start |     Finish |       Peak\n",
      "-------------------------------------------------------\n",
      "      Allocated |       6132 |      12217 |      12832\n",
      "       Reserved |       6140 |      12948 |      12948\n",
      "          Total |       6640 |      13456 |      13456\n"
     ]
    }
   ],
   "source": [
    "gc.collect()\n",
    "batch = [\"This is a test sentence for measuring VRAM usage.\"] * 1\n",
    "batch = tokenizer(batch, return_tensors='pt').to('cuda')\n",
    "for param in model.parameters():\n",
    "    param.grad = None\n",
    "with monitor_gpu_memory_smi(interval=0.01) as result:\n",
    "    forward_backward(batch)\n",
    "del batch\n",
    "gc.collect()\n",
    "print(result)\n"
   ]
  },
  {
   "cell_type": "code",
   "execution_count": 8,
   "metadata": {},
   "outputs": [
    {
     "data": {
      "text/plain": [
       "torch.Size([40, 11])"
      ]
     },
     "execution_count": 8,
     "metadata": {},
     "output_type": "execute_result"
    }
   ],
   "source": [
    "tokenizer([\"This is a test sentence for measuring VRAM usage.\"] * 40, return_tensors='pt').input_ids.shape"
   ]
  },
  {
   "cell_type": "code",
   "execution_count": 9,
   "metadata": {},
   "outputs": [],
   "source": [
    "def experiment(batch_size, fn):\n",
    "    batch = [\"This is a test sentence for measuring VRAM usage.\"] * batch_size\n",
    "    batch = tokenizer(batch, return_tensors='pt').to('cuda')\n",
    "    for param in model.parameters():\n",
    "        param.grad = None\n",
    "    with monitor_gpu_memory_smi(interval=0.01) as measurement:\n",
    "        fn(batch)\n",
    "    return measurement"
   ]
  },
  {
   "cell_type": "code",
   "execution_count": 10,
   "metadata": {},
   "outputs": [],
   "source": [
    "import numpy as np\n",
    "batch_sizes = np.arange(3, 150, 5)\n",
    "occ_no_grad = [experiment(bs, forward_no_grad) for bs in batch_sizes]\n",
    "occ_grad = [experiment(bs, forward_grad) for bs in batch_sizes]\n",
    "occ_back = [experiment(bs, forward_backward) for bs in batch_sizes]"
   ]
  },
  {
   "cell_type": "code",
   "execution_count": 11,
   "metadata": {},
   "outputs": [],
   "source": [
    "def peak_add(measurement):\n",
    "    return measurement.peak_allocated - measurement.allocated_start"
   ]
  },
  {
   "cell_type": "code",
   "execution_count": 21,
   "metadata": {},
   "outputs": [
    {
     "data": {
      "image/png": "[encoded data removed]",
      "text/plain": [
       "<Figure size 700x500 with 1 Axes>"
      ]
     },
     "metadata": {},
     "output_type": "display_data"
    },
    {
     "data": {
      "text/plain": [
       "<Figure size 640x480 with 0 Axes>"
      ]
     },
     "metadata": {},
     "output_type": "display_data"
    }
   ],
   "source": [
    "import matplotlib.pyplot as plt\n",
    "plt.figure(figsize=(7, 5))\n",
    "def plot_result(batch_sizes, occ_no_grad, occ_grad, occ_back):\n",
    "    peak_n = np.array([peak_add(n) for n in occ_no_grad])\n",
    "    peak_diff_ng = np.array([g.peak_allocated - n.peak_allocated for g, n in zip(occ_grad, occ_no_grad)])\n",
    "    peak_diff_bg = np.array([b.peak_allocated - g.peak_allocated for g, b in zip(occ_grad, occ_back)])\n",
    "    M_weights = occ_grad[0].allocated_start\n",
    "    M_weights_plt = np.ones(len(batch_sizes)) * M_weights\n",
    "\n",
    "    plt.fill_between(batch_sizes, np.zeros(len(batch_sizes)), M_weights_plt, label=\"$M_{weights}$\", alpha=0.5)\n",
    "    plt.fill_between(batch_sizes, M_weights_plt, M_weights_plt + peak_n, label=\"$M_{nograd}$\", alpha=0.5)\n",
    "    plt.fill_between(batch_sizes, M_weights_plt + peak_n, M_weights_plt + peak_n + peak_diff_ng, label=\"$M_{act}$\", alpha=0.5)\n",
    "    plt.fill_between(batch_sizes, M_weights_plt + peak_n + peak_diff_ng, M_weights_plt + peak_n + peak_diff_ng + peak_diff_bg, label=\"$M_{backward}$\", alpha=0.5)\n",
    "    plt.legend()\n",
    "    # plt.xscale('log')\n",
    "    plt.xlabel('Batch size')\n",
    "    plt.ylabel('Memory, MB')\n",
    "    plt.ylim(-1000, 25000)\n",
    "    plt.grid()\n",
    "\n",
    "plot_result(batch_sizes, occ_no_grad, occ_grad, occ_back)\n",
    "\n",
    "plt.show()\n",
    "plt.savefig(\"memory_analysis.pdf\", dpi=300)"
   ]
  },
  {
   "cell_type": "markdown",
   "metadata": {},
   "source": [
    "What does memory store?\n",
    "\n",
    "Model weights + some const memory = $M_{weights}$\n",
    "\n",
    "**no_grad_pass** = $bs \\cdot \\alpha_{ng} + \\beta_{ng}$ (supposedly maximal activations size during forward pass)\n",
    "\n",
    "**activations** = $bs \\cdot \\alpha_{act} + \\beta_{act}$ (= `grad_peak - no_grad_peak`)\n",
    "\n",
    "**backward overhead** = $bs \\cdot \\alpha_{b} + \\beta_{b}$ (gradients + their computation overhead)\n",
    "\n",
    "Let's calculate them"
   ]
  },
  {
   "cell_type": "code",
   "execution_count": 15,
   "metadata": {},
   "outputs": [],
   "source": [
    "def linear_regression(x, y):\n",
    "    if len(x) != len(y):\n",
    "        raise ValueError(\"Input lists must have the same length.\")\n",
    "    \n",
    "    n = len(x)\n",
    "    if n == 0:\n",
    "        raise ValueError(\"Input lists must not be empty.\")\n",
    "\n",
    "    # Calculate means\n",
    "    mean_x = sum(x) / n\n",
    "    mean_y = sum(y) / n\n",
    "\n",
    "    # Calculate coefficients\n",
    "    numerator = sum((x[i] - mean_x) * (y[i] - mean_y) for i in range(n))\n",
    "    denominator = sum((x[i] - mean_x) ** 2 for i in range(n))\n",
    "    \n",
    "    if denominator == 0:\n",
    "        raise ValueError(\"Denominator is zero, cannot compute slope (maybe all x are the same).\")\n",
    "\n",
    "    slope = numerator / denominator\n",
    "    intercept = mean_y - slope * mean_x\n",
    "\n",
    "    return slope, intercept"
   ]
  },
  {
   "cell_type": "code",
   "execution_count": 16,
   "metadata": {},
   "outputs": [
    {
     "ename": "NameError",
     "evalue": "name 'm_w' is not defined",
     "output_type": "error",
     "traceback": [
      "\u001b[0;31m---------------------------------------------------------------------------\u001b[0m",
      "\u001b[0;31mNameError\u001b[0m                                 Traceback (most recent call last)",
      "Cell \u001b[0;32mIn[16], line 1\u001b[0m\n\u001b[0;32m----> 1\u001b[0m M_weights \u001b[38;5;241m=\u001b[39m \u001b[43mm_w\u001b[49m\n\u001b[1;32m      2\u001b[0m alpha_ng, beta_ng \u001b[38;5;241m=\u001b[39m linear_regression(batch_sizes, [peak_add(n) \u001b[38;5;28;01mfor\u001b[39;00m n \u001b[38;5;129;01min\u001b[39;00m occ_no_grad])\n\u001b[1;32m      3\u001b[0m alpha_act, beta_act \u001b[38;5;241m=\u001b[39m linear_regression(batch_sizes, [peak_add(g) \u001b[38;5;241m-\u001b[39m peak_add(n) \u001b[38;5;28;01mfor\u001b[39;00m n, g \u001b[38;5;129;01min\u001b[39;00m \u001b[38;5;28mzip\u001b[39m(occ_no_grad, occ_grad)])\n",
      "\u001b[0;31mNameError\u001b[0m: name 'm_w' is not defined"
     ]
    }
   ],
   "source": [
    "M_weights = m_w\n",
    "alpha_ng, beta_ng = linear_regression(batch_sizes, [peak_add(n) for n in occ_no_grad])\n",
    "alpha_act, beta_act = linear_regression(batch_sizes, [peak_add(g) - peak_add(n) for n, g in zip(occ_no_grad, occ_grad)])\n",
    "alpha_b, beta_b = linear_regression(batch_sizes[1:], [peak_add(b) - peak_add(g) for g, b in zip(occ_grad, occ_back)][1:])\n",
    "\n",
    "from IPython.display import display, Math\n",
    "display(Math(f\"M_\\\\text{{weights}} = {M_weights}\"))\n",
    "\n",
    "display(Math(f\"\\\\text{{No Grad: }}\\\\quad \\\\text{{peak}}(B) = {alpha_ng:.2f} \\\\cdot B + {beta_ng:.2f}\"))\n",
    "display(Math(f\"\\\\text{{Activation: }}\\\\quad \\\\text{{peak}}(B) = {alpha_act:.2f} \\\\cdot B + {beta_act:.2f}\"))\n",
    "display(Math(f\"\\\\text{{Backward: }}\\\\quad \\\\text{{peak}}(B) = {alpha_b:.2f} \\\\cdot B + {beta_b:.2f}\"))"
   ]
  },
  {
   "cell_type": "code",
   "execution_count": 19,
   "metadata": {},
   "outputs": [
    {
     "data": {
      "image/png": "[encoded data removed]",
      "text/plain": [
       "<Figure size 640x480 with 1 Axes>"
      ]
     },
     "metadata": {},
     "output_type": "display_data"
    }
   ],
   "source": [
    "all_total_res_diff = []\n",
    "for collection in occ_no_grad, occ_grad, occ_back:\n",
    "    for measurement in collection:\n",
    "        all_total_res_diff.append(measurement.total_peak - measurement.peak_reserved)\n",
    "\n",
    "plt.title(\"Extra memory distribution\")\n",
    "plt.hist(all_total_res_diff, bins=100)\n",
    "plt.show()"
   ]
  },
  {
   "cell_type": "code",
   "execution_count": 14,
   "metadata": {},
   "outputs": [
    {
     "name": "stderr",
     "output_type": "stream",
     "text": [
      "/mnt/home/surkov/conda_envs/venv/lib/python3.10/site-packages/peft/tuners/lora/layer.py:1264: UserWarning: fan_in_fan_out is set to False but the target module is `Conv1D`. Setting fan_in_fan_out to True.\n",
      "  warnings.warn(\n"
     ]
    }
   ],
   "source": [
    "from peft import LoraConfig, get_peft_model, TaskType\n",
    "\n",
    "lora_config = LoraConfig(\n",
    "    r=8,  # rank of the low-rank matrices\n",
    "    lora_alpha=32,\n",
    "    target_modules=[\"c_attn\", \"c_proj\"],  # depends on model architecture\n",
    "    lora_dropout=0.1,\n",
    "    bias=\"none\",\n",
    "    task_type=TaskType.CAUSAL_LM  # or SEQ_CLS, TOKEN_CLS, etc.\n",
    ")\n",
    "\n",
    "model = get_peft_model(model, lora_config)"
   ]
  },
  {
   "cell_type": "code",
   "execution_count": 15,
   "metadata": {},
   "outputs": [],
   "source": [
    "def forward_no_grad(batch):\n",
    "    with torch.no_grad():\n",
    "        model(**batch)\n",
    "\n",
    "def forward_grad(batch):\n",
    "    model(**batch)\n",
    "\n",
    "\n",
    "def forward_backward(batch):\n",
    "    output = model(**batch).logits\n",
    "    output.sum().backward()"
   ]
  },
  {
   "cell_type": "code",
   "execution_count": 16,
   "metadata": {},
   "outputs": [],
   "source": [
    "import numpy as np\n",
    "occ_no_grad_lora = [experiment(bs, forward_no_grad) for bs in batch_sizes]\n",
    "occ_grad_lora = [experiment(bs, forward_grad) for bs in batch_sizes]\n",
    "occ_back_lora = [experiment(bs, forward_backward) for bs in batch_sizes]"
   ]
  },
  {
   "cell_type": "code",
   "execution_count": null,
   "metadata": {},
   "outputs": [],
   "source": [
    "pl"
   ]
  },
  {
   "cell_type": "code",
   "execution_count": 27,
   "metadata": {},
   "outputs": [
    {
     "data": {
      "image/png": "[encoded data removed]",
      "text/plain": [
       "<Figure size 640x480 with 1 Axes>"
      ]
     },
     "metadata": {},
     "output_type": "display_data"
    },
    {
     "data": {
      "image/png": "[encoded data removed]",
      "text/plain": [
       "<Figure size 640x480 with 1 Axes>"
      ]
     },
     "metadata": {},
     "output_type": "display_data"
    }
   ],
   "source": [
    "plot_result(batch_sizes, occ_no_grad, occ_grad, occ_back)\n",
    "plt.savefig(\"memory_analysis.pdf\", dpi=300)\n",
    "plt.show()\n",
    "plot_result(batch_sizes, occ_no_grad_lora, occ_grad_lora, occ_back_lora)\n",
    "plt.savefig(\"memory_analysis_lora.pdf\", dpi=300)\n",
    "plt.show()"
   ]
  },
  {
   "cell_type": "code",
   "execution_count": null,
   "metadata": {},
   "outputs": [
    {
     "data": {
      "text/latex": [
       "$\\displaystyle M_\\text{weights} = 6166$"
      ],
      "text/plain": [
       "<IPython.core.display.Math object>"
      ]
     },
     "metadata": {},
     "output_type": "display_data"
    },
    {
     "data": {
      "text/latex": [
       "$\\displaystyle \\text{No Grad: }\\quad \\text{peak}(B) = 11.85 \\cdot B + 0.28$"
      ],
      "text/plain": [
       "<IPython.core.display.Math object>"
      ]
     },
     "metadata": {},
     "output_type": "display_data"
    },
    {
     "data": {
      "text/latex": [
       "$\\displaystyle \\text{Activation: }\\quad \\text{peak}(B) = 95.70 \\cdot B + 33.22$"
      ],
      "text/plain": [
       "<IPython.core.display.Math object>"
      ]
     },
     "metadata": {},
     "output_type": "display_data"
    },
    {
     "data": {
      "text/latex": [
       "$\\displaystyle \\text{Backward: }\\quad \\text{peak}(B) = 0.00 \\cdot B + 0.00$"
      ],
      "text/plain": [
       "<IPython.core.display.Math object>"
      ]
     },
     "metadata": {},
     "output_type": "display_data"
    }
   ],
   "source": [
    "M_weights = occ_grad[0].allocated_start\n",
    "alpha_ng, beta_ng = linear_regression(batch_sizes, [n.peak_allocated - n.allocated_start for n in occ_no_grad])\n",
    "alpha_act, beta_act = linear_regression(batch_sizes, [g.peak_allocated - n.peak_allocated for n, g in zip(occ_no_grad, occ_grad)])\n",
    "alpha_b, beta_b = linear_regression(batch_sizes[1:], [b.peak_allocated - g.peak_allocated for g, b in zip(occ_grad, occ_back)][1:])\n",
    "\n",
    "from IPython.display import display, Math\n",
    "display(Math(f\"M_\\\\text{{weights}} = {M_weights}\"))\n",
    "\n",
    "display(Math(f\"\\\\text{{No Grad: }}\\\\quad \\\\text{{peak}}(B) = {alpha_ng:.2f} \\\\cdot B + {beta_ng:.2f}\"))\n",
    "display(Math(f\"\\\\text{{Activation: }}\\\\quad \\\\text{{peak}}(B) = {alpha_act:.2f} \\\\cdot B + {beta_act:.2f}\"))\n",
    "display(Math(f\"\\\\text{{Backward: }}\\\\quad \\\\text{{peak}}(B) = {alpha_b:.2f} \\\\cdot B + {beta_b:.2f}\"))"
   ]
  },
  {
   "cell_type": "code",
   "execution_count": null,
   "metadata": {},
   "outputs": [],
   "source": []
  }
 ],
 "metadata": {
  "kernelspec": {
   "display_name": "Python 3",
   "language": "python",
   "name": "python3"
  },
  "language_info": {
   "codemirror_mode": {
    "name": "ipython",
    "version": 3
   },
   "file_extension": ".py",
   "mimetype": "text/x-python",
   "name": "python",
   "nbconvert_exporter": "python",
   "pygments_lexer": "ipython3",
   "version": "3.10.16"
  }
 },
 "nbformat": 4,
 "nbformat_minor": 2
}
