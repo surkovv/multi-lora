{
 "cells": [
  {
   "cell_type": "code",
   "execution_count": 1,
   "metadata": {},
   "outputs": [],
   "source": [
    "%load_ext autoreload\n",
    "%autoreload 2"
   ]
  },
  {
   "cell_type": "code",
   "execution_count": 2,
   "metadata": {},
   "outputs": [
    {
     "name": "stderr",
     "output_type": "stream",
     "text": [
      "/mnt/home/surkov/conda_envs/venv/lib/python3.10/site-packages/tqdm/auto.py:21: TqdmWarning: IProgress not found. Please update jupyter and ipywidgets. See https://ipywidgets.readthedocs.io/en/stable/user_install.html\n",
      "  from .autonotebook import tqdm as notebook_tqdm\n"
     ]
    }
   ],
   "source": [
    "import torch\n",
    "import torch.nn as nn\n",
    "from torch.utils.data import DataLoader\n",
    "import numpy as np\n",
    "from transformers import GPT2Tokenizer, GPT2LMHeadModel\n",
    "from multilora import LoRAModel, MultiLoRALayerMaskingHom, MultiLoRALayerMaskingHomEfficient, MultiLoRALayerMasking, MultiLoRALayerSTK"
   ]
  },
  {
   "cell_type": "code",
   "execution_count": 3,
   "metadata": {},
   "outputs": [],
   "source": [
    "from transformers import AutoTokenizer, AutoModelForCausalLM\n",
    "from multilora.benchmarking import MultiAdapterDataset, get_bitext_dataset, get_finetome_dataset, get_guanaco_dataset\n",
    "N = 1000\n",
    "model_id = \"openai-community/gpt2\"\n",
    "tokenizer = AutoTokenizer.from_pretrained(model_id)\n",
    "tokenizer.pad_token = tokenizer.eos_token\n",
    "tokenizer.pad_token_id = tokenizer.eos_token_id\n",
    "\n",
    "dataset = MultiAdapterDataset([get_bitext_dataset(N, tokenizer), get_finetome_dataset(N, tokenizer), get_guanaco_dataset(N, tokenizer)], tokenizer)\n",
    "n_adapters = 99\n",
    "n_datasets = 3"
   ]
  },
  {
   "cell_type": "code",
   "execution_count": 4,
   "metadata": {},
   "outputs": [],
   "source": [
    "def create_lora_hom(in_features, out_features, adapter_ids):\n",
    "    return MultiLoRALayerMaskingHom(in_features, out_features, adapter_ids, n_adapters=n_adapters, rank=32)\n",
    "\n",
    "def create_lora_hom_eff(in_features, out_features, adapter_ids):\n",
    "    return MultiLoRALayerMaskingHomEfficient(in_features, out_features, adapter_ids, n_adapters=n_adapters, rank=32)\n",
    "\n",
    "def create_lora_het(in_features, out_features, adapter_ids):\n",
    "    return MultiLoRALayerMasking(in_features, out_features, adapter_ids, ranks=[32] * n_adapters)\n",
    "\n",
    "def create_lora_het_stk(in_features, out_features, adapter_ids):\n",
    "    return MultiLoRALayerSTK(in_features, out_features, adapter_ids, ranks=[32] * n_adapters)"
   ]
  },
  {
   "cell_type": "markdown",
   "metadata": {},
   "source": [
    "## Homogenious LoRA Adapters"
   ]
  },
  {
   "cell_type": "code",
   "execution_count": 5,
   "metadata": {},
   "outputs": [],
   "source": [
    "model = GPT2LMHeadModel.from_pretrained(model_id, device_map=\"auto\").to(dtype=torch.bfloat16)\n",
    "lora_model = LoRAModel(model, target_modules=[\"c_attn\"], lora_factory=create_lora_hom).cuda().to(torch.bfloat16)\n",
    "lora_model.freeze_base_model()"
   ]
  },
  {
   "cell_type": "code",
   "execution_count": 6,
   "metadata": {},
   "outputs": [],
   "source": [
    "from torch.optim import AdamW\n",
    "from transformers import get_scheduler\n",
    "\n",
    "dataloader = DataLoader(dataset, batch_size=8, collate_fn=dataset.collate_fn)\n",
    "\n",
    "optimizer = AdamW(lora_model.parameters(), lr=2e-4, weight_decay=0)\n",
    "num_epochs = 1\n",
    "num_training_steps = num_epochs * len(dataloader)\n",
    "\n",
    "lr_scheduler = get_scheduler(\"linear\", optimizer=optimizer, num_warmup_steps=0, num_training_steps=num_training_steps)"
   ]
  },
  {
   "cell_type": "code",
   "execution_count": 7,
   "metadata": {},
   "outputs": [],
   "source": [
    "device = \"cuda\"\n",
    "\n",
    "loss_fn = nn.CrossEntropyLoss()\n",
    "\n",
    "def train_step(data):\n",
    "    ids, masks, labels, adapter_ids = data\n",
    "    adapter_ids = adapter_ids + torch.randint_like(adapter_ids, low=0, high=n_adapters // n_datasets - 1) * n_datasets\n",
    "    adapter_ids %= n_adapters\n",
    "    logits = lora_model(input_ids=ids.to(device), attention_mask=masks.to(device), adapter_ids=adapter_ids.to(device))[0]\n",
    "    \n",
    "    loss = loss_fn(logits.view(-1, logits.size(-1)), labels.view(-1).to('cuda'))\n",
    "    optimizer.zero_grad()\n",
    "    loss.backward()\n",
    "\n",
    "    optimizer.step()  \n",
    "    lr_scheduler.step()\n",
    "\n",
    "    return loss.item()"
   ]
  },
  {
   "cell_type": "code",
   "execution_count": 8,
   "metadata": {},
   "outputs": [
    {
     "name": "stderr",
     "output_type": "stream",
     "text": [
      "0it [00:00, ?it/s]"
     ]
    },
    {
     "name": "stderr",
     "output_type": "stream",
     "text": [
      "20it [00:10,  1.97it/s]"
     ]
    },
    {
     "name": "stdout",
     "output_type": "stream",
     "text": [
      "AVG TIME: 0.5509742561139559\n",
      "LOSS: 5.942682955053021\n"
     ]
    },
    {
     "name": "stderr",
     "output_type": "stream",
     "text": [
      "40it [00:20,  1.98it/s]"
     ]
    },
    {
     "name": "stdout",
     "output_type": "stream",
     "text": [
      "AVG TIME: 0.5269916424384484\n",
      "LOSS: 6.373347408739958\n"
     ]
    },
    {
     "name": "stderr",
     "output_type": "stream",
     "text": [
      "60it [00:30,  1.98it/s]"
     ]
    },
    {
     "name": "stdout",
     "output_type": "stream",
     "text": [
      "AVG TIME: 0.5192565513869464\n",
      "LOSS: 6.472410628159011\n"
     ]
    },
    {
     "name": "stderr",
     "output_type": "stream",
     "text": [
      "80it [00:40,  1.98it/s]"
     ]
    },
    {
     "name": "stdout",
     "output_type": "stream",
     "text": [
      "AVG TIME: 0.515574219860608\n",
      "LOSS: 6.601495394466152\n"
     ]
    },
    {
     "name": "stderr",
     "output_type": "stream",
     "text": [
      "99it [00:50,  1.95it/s]"
     ]
    },
    {
     "name": "stdout",
     "output_type": "stream",
     "text": [
      "AVG TIME: 0.5131114010859017\n",
      "LOSS: 6.56423440711488\n"
     ]
    },
    {
     "name": "stderr",
     "output_type": "stream",
     "text": [
      "\n"
     ]
    }
   ],
   "source": [
    "from tqdm import tqdm\n",
    "from time import time\n",
    "running_loss = None\n",
    "alpha = 0.95\n",
    "start = time()\n",
    "\n",
    "iters = 0\n",
    "\n",
    "for epoch in range(num_epochs):\n",
    "    if iters >= 100:\n",
    "        break\n",
    "    for i, batch in tqdm(enumerate(dataloader)):\n",
    "        loss = train_step(batch)\n",
    "        if not running_loss:\n",
    "            running_loss = loss\n",
    "        else:\n",
    "            running_loss = running_loss * alpha + loss * (1 - alpha)\n",
    "        if iters % 20 == 19:\n",
    "            print(\"AVG TIME:\", (time() - start) / iters)\n",
    "            print(\"LOSS:\", running_loss)\n",
    "        iters += 1\n",
    "        if iters >= 100:\n",
    "            break"
   ]
  },
  {
   "cell_type": "markdown",
   "metadata": {},
   "source": [
    "## Homogenious Efficient"
   ]
  },
  {
   "cell_type": "code",
   "execution_count": 5,
   "metadata": {},
   "outputs": [],
   "source": [
    "model = GPT2LMHeadModel.from_pretrained(model_id, device_map=\"auto\").to(dtype=torch.bfloat16)\n",
    "lora_model = LoRAModel(model, target_modules=[\"c_attn\"], lora_factory=create_lora_hom_eff).cuda().to(torch.bfloat16)\n",
    "lora_model.freeze_base_model()"
   ]
  },
  {
   "cell_type": "code",
   "execution_count": 6,
   "metadata": {},
   "outputs": [],
   "source": [
    "from torch.optim import AdamW\n",
    "from transformers import get_scheduler\n",
    "\n",
    "dataloader = DataLoader(dataset, batch_size=8, collate_fn=dataset.collate_fn)\n",
    "\n",
    "optimizer = AdamW(lora_model.parameters(), lr=2e-4, weight_decay=0)\n",
    "num_epochs = 1\n",
    "num_training_steps = num_epochs * len(dataloader)\n",
    "\n",
    "lr_scheduler = get_scheduler(\"linear\", optimizer=optimizer, num_warmup_steps=0, num_training_steps=num_training_steps)"
   ]
  },
  {
   "cell_type": "code",
   "execution_count": 7,
   "metadata": {},
   "outputs": [],
   "source": [
    "device = \"cuda\"\n",
    "\n",
    "loss_fn = nn.CrossEntropyLoss()\n",
    "\n",
    "def train_step(data):\n",
    "    ids, masks, labels, adapter_ids = data\n",
    "    adapter_ids = adapter_ids + torch.randint_like(adapter_ids, low=0, high=n_adapters // n_datasets - 1) * n_datasets\n",
    "    adapter_ids %= n_adapters\n",
    "    logits = lora_model(input_ids=ids.to(device), attention_mask=masks.to(device), adapter_ids=adapter_ids.to(device))[0]\n",
    "    \n",
    "    loss = loss_fn(logits.view(-1, logits.size(-1)), labels.view(-1).to('cuda'))\n",
    "    optimizer.zero_grad()\n",
    "    loss.backward()\n",
    "\n",
    "    optimizer.step()  \n",
    "    lr_scheduler.step()\n",
    "\n",
    "    return loss.item()"
   ]
  },
  {
   "cell_type": "code",
   "execution_count": 8,
   "metadata": {},
   "outputs": [
    {
     "name": "stderr",
     "output_type": "stream",
     "text": [
      "21it [00:02, 10.69it/s]"
     ]
    },
    {
     "name": "stdout",
     "output_type": "stream",
     "text": [
      "AVG TIME: 0.11871823511625591\n",
      "LOSS: 5.942794941708233\n"
     ]
    },
    {
     "name": "stderr",
     "output_type": "stream",
     "text": [
      "41it [00:04, 10.94it/s]"
     ]
    },
    {
     "name": "stdout",
     "output_type": "stream",
     "text": [
      "AVG TIME: 0.10463229203835511\n",
      "LOSS: 6.374149546534218\n"
     ]
    },
    {
     "name": "stderr",
     "output_type": "stream",
     "text": [
      "61it [00:06, 10.84it/s]"
     ]
    },
    {
     "name": "stdout",
     "output_type": "stream",
     "text": [
      "AVG TIME: 0.10051029415453895\n",
      "LOSS: 6.475503611293823\n"
     ]
    },
    {
     "name": "stderr",
     "output_type": "stream",
     "text": [
      "81it [00:07, 10.90it/s]"
     ]
    },
    {
     "name": "stdout",
     "output_type": "stream",
     "text": [
      "AVG TIME: 0.09805604777758635\n",
      "LOSS: 6.603067205769785\n"
     ]
    },
    {
     "name": "stderr",
     "output_type": "stream",
     "text": [
      "99it [00:09, 10.31it/s]"
     ]
    },
    {
     "name": "stdout",
     "output_type": "stream",
     "text": [
      "AVG TIME: 0.09706232764504173\n",
      "LOSS: 6.566872642360667\n"
     ]
    },
    {
     "name": "stderr",
     "output_type": "stream",
     "text": [
      "\n"
     ]
    }
   ],
   "source": [
    "from tqdm import tqdm\n",
    "from time import time\n",
    "running_loss = None\n",
    "alpha = 0.95\n",
    "start = time()\n",
    "\n",
    "iters = 0\n",
    "\n",
    "for epoch in range(num_epochs):\n",
    "    if iters >= 100:\n",
    "        break\n",
    "    for i, batch in tqdm(enumerate(dataloader)):\n",
    "        loss = train_step(batch)\n",
    "        if not running_loss:\n",
    "            running_loss = loss\n",
    "        else:\n",
    "            running_loss = running_loss * alpha + loss * (1 - alpha)\n",
    "        if iters % 20 == 19:\n",
    "            print(\"AVG TIME:\", (time() - start) / iters)\n",
    "            print(\"LOSS:\", running_loss)\n",
    "        iters += 1\n",
    "        if iters >= 100:\n",
    "            break"
   ]
  },
  {
   "cell_type": "markdown",
   "metadata": {},
   "source": [
    "## Heterogenious Naive"
   ]
  },
  {
   "cell_type": "code",
   "execution_count": 5,
   "metadata": {},
   "outputs": [],
   "source": [
    "model = GPT2LMHeadModel.from_pretrained(model_id, device_map=\"auto\").to(dtype=torch.bfloat16)\n",
    "lora_model = LoRAModel(model, target_modules=[\"c_attn\"], lora_factory=create_lora_het).cuda().to(torch.bfloat16)\n",
    "lora_model.freeze_base_model()"
   ]
  },
  {
   "cell_type": "code",
   "execution_count": 6,
   "metadata": {},
   "outputs": [],
   "source": [
    "from torch.optim import AdamW\n",
    "from transformers import get_scheduler\n",
    "\n",
    "dataloader = DataLoader(dataset, batch_size=8, collate_fn=dataset.collate_fn)\n",
    "\n",
    "optimizer = AdamW(lora_model.parameters(), lr=2e-4, weight_decay=0)\n",
    "num_epochs = 1\n",
    "num_training_steps = num_epochs * len(dataloader)\n",
    "\n",
    "lr_scheduler = get_scheduler(\"linear\", optimizer=optimizer, num_warmup_steps=0, num_training_steps=num_training_steps)"
   ]
  },
  {
   "cell_type": "code",
   "execution_count": 7,
   "metadata": {},
   "outputs": [],
   "source": [
    "device = \"cuda\"\n",
    "\n",
    "loss_fn = nn.CrossEntropyLoss()\n",
    "\n",
    "def train_step(data):\n",
    "    ids, masks, labels, adapter_ids = data\n",
    "    adapter_ids = adapter_ids + torch.randint_like(adapter_ids, low=0, high=n_adapters // n_datasets - 1) * n_datasets\n",
    "    adapter_ids %= n_adapters\n",
    "    logits = lora_model(input_ids=ids.to(device), attention_mask=masks.to(device), adapter_ids=adapter_ids.to(device))[0]\n",
    "    \n",
    "    loss = loss_fn(logits.view(-1, logits.size(-1)), labels.view(-1).to('cuda'))\n",
    "    optimizer.zero_grad()\n",
    "    loss.backward()\n",
    "\n",
    "    optimizer.step()  \n",
    "    lr_scheduler.step()\n",
    "\n",
    "    return loss.item()"
   ]
  },
  {
   "cell_type": "code",
   "execution_count": 8,
   "metadata": {},
   "outputs": [
    {
     "name": "stderr",
     "output_type": "stream",
     "text": [
      "20it [00:06,  3.12it/s]"
     ]
    },
    {
     "name": "stdout",
     "output_type": "stream",
     "text": [
      "AVG TIME: 0.35765408214769867\n",
      "LOSS: 5.941646360629132\n"
     ]
    },
    {
     "name": "stderr",
     "output_type": "stream",
     "text": [
      "40it [00:13,  3.12it/s]"
     ]
    },
    {
     "name": "stdout",
     "output_type": "stream",
     "text": [
      "AVG TIME: 0.3376512771997696\n",
      "LOSS: 6.375575699811821\n"
     ]
    },
    {
     "name": "stderr",
     "output_type": "stream",
     "text": [
      "60it [00:19,  3.19it/s]"
     ]
    },
    {
     "name": "stdout",
     "output_type": "stream",
     "text": [
      "AVG TIME: 0.33037236989554714\n",
      "LOSS: 6.478838890604542\n"
     ]
    },
    {
     "name": "stderr",
     "output_type": "stream",
     "text": [
      "80it [00:25,  3.13it/s]"
     ]
    },
    {
     "name": "stdout",
     "output_type": "stream",
     "text": [
      "AVG TIME: 0.3272677886335156\n",
      "LOSS: 6.610806591793325\n"
     ]
    },
    {
     "name": "stderr",
     "output_type": "stream",
     "text": [
      "99it [00:32,  3.07it/s]"
     ]
    },
    {
     "name": "stdout",
     "output_type": "stream",
     "text": [
      "AVG TIME: 0.32538832317699085\n",
      "LOSS: 6.583812531106318\n"
     ]
    },
    {
     "name": "stderr",
     "output_type": "stream",
     "text": [
      "\n"
     ]
    }
   ],
   "source": [
    "from tqdm import tqdm\n",
    "from time import time\n",
    "running_loss = None\n",
    "alpha = 0.95\n",
    "start = time()\n",
    "\n",
    "iters = 0\n",
    "\n",
    "for epoch in range(num_epochs):\n",
    "    if iters >= 100:\n",
    "        break\n",
    "    for i, batch in tqdm(enumerate(dataloader)):\n",
    "        loss = train_step(batch)\n",
    "        if not running_loss:\n",
    "            running_loss = loss\n",
    "        else:\n",
    "            running_loss = running_loss * alpha + loss * (1 - alpha)\n",
    "        if iters % 20 == 19:\n",
    "            print(\"AVG TIME:\", (time() - start) / iters)\n",
    "            print(\"LOSS:\", running_loss)\n",
    "        iters += 1\n",
    "        if iters >= 100:\n",
    "            break"
   ]
  },
  {
   "cell_type": "markdown",
   "metadata": {},
   "source": [
    "## Heterogenious MegaBlocks"
   ]
  },
  {
   "cell_type": "code",
   "execution_count": 5,
   "metadata": {},
   "outputs": [],
   "source": [
    "model = GPT2LMHeadModel.from_pretrained(model_id, device_map=\"auto\").to(dtype=torch.bfloat16)\n",
    "lora_model = LoRAModel(model, target_modules=[\"c_attn\"], lora_factory=create_lora_het_stk).cuda()\n",
    "lora_model.freeze_base_model()"
   ]
  },
  {
   "cell_type": "code",
   "execution_count": 6,
   "metadata": {},
   "outputs": [],
   "source": [
    "from torch.optim import AdamW\n",
    "from transformers import get_scheduler\n",
    "\n",
    "dataloader = DataLoader(dataset, batch_size=8, collate_fn=dataset.collate_fn)\n",
    "\n",
    "optimizer = AdamW(lora_model.parameters(), lr=2e-4, weight_decay=0)\n",
    "num_epochs = 1\n",
    "num_training_steps = num_epochs * len(dataloader)\n",
    "\n",
    "lr_scheduler = get_scheduler(\"linear\", optimizer=optimizer, num_warmup_steps=0, num_training_steps=num_training_steps)"
   ]
  },
  {
   "cell_type": "code",
   "execution_count": 7,
   "metadata": {},
   "outputs": [],
   "source": [
    "device = \"cuda\"\n",
    "\n",
    "loss_fn = nn.CrossEntropyLoss()\n",
    "\n",
    "def train_step(data):\n",
    "    ids, masks, labels, adapter_ids = data\n",
    "    adapter_ids = adapter_ids + torch.randint_like(adapter_ids, low=0, high=n_adapters // n_datasets - 1) * n_datasets\n",
    "    adapter_ids %= n_adapters\n",
    "    logits = lora_model(input_ids=ids.to(device), attention_mask=masks.to(device), adapter_ids=adapter_ids.to(device))[0]\n",
    "    \n",
    "    loss = loss_fn(logits.view(-1, logits.size(-1)), labels.view(-1).to('cuda'))\n",
    "    optimizer.zero_grad()\n",
    "    loss.backward()\n",
    "\n",
    "    optimizer.step()  \n",
    "    lr_scheduler.step()\n",
    "\n",
    "    return loss.item()"
   ]
  },
  {
   "cell_type": "code",
   "execution_count": 8,
   "metadata": {},
   "outputs": [
    {
     "name": "stderr",
     "output_type": "stream",
     "text": [
      "21it [00:03,  7.65it/s]"
     ]
    },
    {
     "name": "stdout",
     "output_type": "stream",
     "text": [
      "AVG TIME: 0.18297824106718363\n",
      "LOSS: 5.942448457634257\n"
     ]
    },
    {
     "name": "stderr",
     "output_type": "stream",
     "text": [
      "41it [00:06,  7.76it/s]"
     ]
    },
    {
     "name": "stdout",
     "output_type": "stream",
     "text": [
      "AVG TIME: 0.1562349184965476\n",
      "LOSS: 6.372899227386387\n"
     ]
    },
    {
     "name": "stderr",
     "output_type": "stream",
     "text": [
      "61it [00:08,  7.69it/s]"
     ]
    },
    {
     "name": "stdout",
     "output_type": "stream",
     "text": [
      "AVG TIME: 0.1468204360897258\n",
      "LOSS: 6.472101177471724\n"
     ]
    },
    {
     "name": "stderr",
     "output_type": "stream",
     "text": [
      "81it [00:11,  7.90it/s]"
     ]
    },
    {
     "name": "stdout",
     "output_type": "stream",
     "text": [
      "AVG TIME: 0.14184650288352482\n",
      "LOSS: 6.599937714595329\n"
     ]
    },
    {
     "name": "stderr",
     "output_type": "stream",
     "text": [
      "99it [00:13,  7.18it/s]"
     ]
    },
    {
     "name": "stdout",
     "output_type": "stream",
     "text": [
      "AVG TIME: 0.13927348695620143\n",
      "LOSS: 6.564399818292757\n"
     ]
    },
    {
     "name": "stderr",
     "output_type": "stream",
     "text": [
      "\n"
     ]
    }
   ],
   "source": [
    "from tqdm import tqdm\n",
    "from time import time\n",
    "running_loss = None\n",
    "alpha = 0.95\n",
    "start = time()\n",
    "\n",
    "iters = 0\n",
    "\n",
    "for epoch in range(num_epochs):\n",
    "    if iters >= 100:\n",
    "        break\n",
    "    for i, batch in tqdm(enumerate(dataloader)):\n",
    "        loss = train_step(batch)\n",
    "        if not running_loss:\n",
    "            running_loss = loss\n",
    "        else:\n",
    "            running_loss = running_loss * alpha + loss * (1 - alpha)\n",
    "        if iters % 20 == 19:\n",
    "            print(\"AVG TIME:\", (time() - start) / iters)\n",
    "            print(\"LOSS:\", running_loss)\n",
    "        iters += 1\n",
    "        if iters >= 100:\n",
    "            break"
   ]
  },
  {
   "cell_type": "code",
   "execution_count": null,
   "metadata": {},
   "outputs": [],
   "source": []
  }
 ],
 "metadata": {
  "kernelspec": {
   "display_name": "Python 3",
   "language": "python",
   "name": "python3"
  },
  "language_info": {
   "codemirror_mode": {
    "name": "ipython",
    "version": 3
   },
   "file_extension": ".py",
   "mimetype": "text/x-python",
   "name": "python",
   "nbconvert_exporter": "python",
   "pygments_lexer": "ipython3",
   "version": "3.10.16"
  }
 },
 "nbformat": 4,
 "nbformat_minor": 2
}
